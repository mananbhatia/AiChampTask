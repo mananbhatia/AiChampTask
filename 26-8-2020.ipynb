{
 "metadata": {
  "language_info": {
   "codemirror_mode": {
    "name": "ipython",
    "version": 3
   },
   "file_extension": ".py",
   "mimetype": "text/x-python",
   "name": "python",
   "nbconvert_exporter": "python",
   "pygments_lexer": "ipython3",
   "version": "3.7.7-final"
  },
  "orig_nbformat": 2,
  "kernelspec": {
   "name": "python3",
   "display_name": "Python 3"
  }
 },
 "nbformat": 4,
 "nbformat_minor": 2,
 "cells": [
  {
   "cell_type": "code",
   "execution_count": 15,
   "metadata": {},
   "outputs": [],
   "source": [
    "import pandas as pd \n",
    "import os   \n",
    "from glob import glob\n"
   ]
  },
  {
   "cell_type": "code",
   "execution_count": 16,
   "metadata": {
    "tags": []
   },
   "outputs": [
    {
     "output_type": "stream",
     "name": "stdout",
     "text": "m:\\AiChamps\n"
    }
   ],
   "source": [
    "#gives us the current working directory\n",
    "curr_directory = os.getcwd()\n",
    "print(curr_directory)"
   ]
  },
  {
   "cell_type": "code",
   "execution_count": 17,
   "metadata": {
    "tags": []
   },
   "outputs": [
    {
     "output_type": "stream",
     "name": "stdout",
     "text": "m:\\AiChamps\\profile_pdfs\\\n"
    }
   ],
   "source": [
    "#gives the directory where all pdfs are stored\n",
    "profile_path = os.path.join(curr_directory + \"\\\\profile_pdfs\\\\\")\n",
    "print(profile_path)"
   ]
  },
  {
   "cell_type": "code",
   "execution_count": 24,
   "metadata": {
    "tags": []
   },
   "outputs": [
    {
     "output_type": "stream",
     "name": "stdout",
     "text": "['m:\\\\AiChamps\\\\profile_pdfs\\\\Profile (1).pdf', 'm:\\\\AiChamps\\\\profile_pdfs\\\\Profile (10).pdf', 'm:\\\\AiChamps\\\\profile_pdfs\\\\Profile (11).pdf', 'm:\\\\AiChamps\\\\profile_pdfs\\\\Profile (12).pdf', 'm:\\\\AiChamps\\\\profile_pdfs\\\\Profile (13).pdf']\n"
    }
   ],
   "source": [
    "list_pdf_profiles = glob(os.path.join(profile_path,\"*.{}\".format('pdf')))\n",
    "print(list_pdf_profiles[:5])"
   ]
  },
  {
   "cell_type": "code",
   "execution_count": null,
   "metadata": {},
   "outputs": [],
   "source": []
  }
 ]
}
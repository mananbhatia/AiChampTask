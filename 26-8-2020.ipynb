{
 "metadata": {
  "language_info": {
   "codemirror_mode": {
    "name": "ipython",
    "version": 3
   },
   "file_extension": ".py",
   "mimetype": "text/x-python",
   "name": "python",
   "nbconvert_exporter": "python",
   "pygments_lexer": "ipython3",
   "version": "3.7.7-final"
  },
  "orig_nbformat": 2,
  "kernelspec": {
   "name": "python3",
   "display_name": "Python 3"
  }
 },
 "nbformat": 4,
 "nbformat_minor": 2,
 "cells": [
  {
   "cell_type": "code",
   "execution_count": 49,
   "metadata": {},
   "outputs": [],
   "source": [
    "import pandas as pd \n",
    "import os   \n",
    "from glob import glob\n"
   ]
  },
  {
   "cell_type": "code",
   "execution_count": 50,
   "metadata": {},
   "outputs": [],
   "source": [
    "#library to read text from pdfs\n",
    "import fitz"
   ]
  },
  {
   "cell_type": "code",
   "execution_count": 51,
   "metadata": {
    "tags": []
   },
   "outputs": [
    {
     "output_type": "stream",
     "name": "stdout",
     "text": "m:\\AiChamps\n"
    }
   ],
   "source": [
    "#gives us the current working directory\n",
    "curr_directory = os.getcwd()\n",
    "print(curr_directory)"
   ]
  },
  {
   "cell_type": "code",
   "execution_count": 52,
   "metadata": {
    "tags": []
   },
   "outputs": [
    {
     "output_type": "stream",
     "name": "stdout",
     "text": "m:\\AiChamps\\profile_pdfs\\\n"
    }
   ],
   "source": [
    "#gives the directory where all pdfs are stored\n",
    "profile_path = os.path.join(curr_directory + \"\\\\profile_pdfs\\\\\")\n",
    "print(profile_path)"
   ]
  },
  {
   "cell_type": "code",
   "execution_count": 53,
   "metadata": {
    "tags": []
   },
   "outputs": [
    {
     "output_type": "stream",
     "name": "stdout",
     "text": "['m:\\\\AiChamps\\\\profile_pdfs\\\\Profile (1).pdf', 'm:\\\\AiChamps\\\\profile_pdfs\\\\Profile (10).pdf', 'm:\\\\AiChamps\\\\profile_pdfs\\\\Profile (11).pdf', 'm:\\\\AiChamps\\\\profile_pdfs\\\\Profile (12).pdf', 'm:\\\\AiChamps\\\\profile_pdfs\\\\Profile (13).pdf']\n"
    }
   ],
   "source": [
    "list_pdf_profile_paths = glob(os.path.join(profile_path,\"*.{}\".format('pdf')))\n",
    "print(list_pdf_profile_paths[:5])"
   ]
  },
  {
   "cell_type": "markdown",
   "metadata": {},
   "source": [
    "TASK 1 Complete"
   ]
  },
  {
   "cell_type": "markdown",
   "metadata": {},
   "source": [
    "TASK 2 Start"
   ]
  },
  {
   "cell_type": "code",
   "execution_count": 58,
   "metadata": {},
   "outputs": [],
   "source": [
    "#reading text from pdf files\n",
    "def extractTextFromPDF(filepath):\n",
    "    doc = fitz.open(filepath)                      # open document\n",
    "    #doc object of fitz stores the document page objects\n",
    "    all_text = \"\"\n",
    "    for page in doc:\n",
    "        #print(page.getText()) \n",
    "        #page.getText() returns the text contained in a single page\n",
    "        all_text = all_text  + page.getText()\n",
    "\n",
    "    return all_text\n",
    "    #print(all_text)\n"
   ]
  },
  {
   "cell_type": "code",
   "execution_count": 59,
   "metadata": {
    "tags": []
   },
   "outputs": [
    {
     "output_type": "stream",
     "name": "stdout",
     "text": " \n \nContact\nbhatia.manan96@gmail.com\nwww.linkedin.com/in/manan-bhatia\n(LinkedIn)\nTop Skills\nPython\nRobotic Process Automation (RPA)\nGoogle Cloud API's\nCertifications\nIntro to Python for Data Science\nIntermediate Python For Data\nScience\nSupervised Learning with scikit-learn\nManan Bhatia\nAnalytics Specialist at TransOrg Analytics\nDelhi\nSummary\nExperienced Analyst with a demonstrated history of working in the\ninformation services industry. \nSkilled in Python, Robotic Process Automation (RPA), Text\nAnalytics, and Google API's.\nAdept in leveraging both structured and unstructured data and\nsynthesizing concise and informative decisioning algorithms.\nExperience\nTransOrg Analytics\n2 years 3 months\nAnalytics Specialist\nJune 2020 - Present (3 months)\n• Designed a document automation assembly system for a Financial Risk\nConsultancy firm based out of Netherlands\nAnalyst\nJune 2018 - Present (2 years 3 months)\nGurgaon, Haryana, India\n• Process automation to audit expense reports for a Fortune 100 financial\nservices company\n• Process Automation to generate business reports for a global premier hotel\nchain\n• KYC Document Analyzer -Built a tool to automate data extraction from KYC\ndocuments using cloud-based OCR API\n• Built a python framework to automate the process of Credit Risk Score\nmodelling\n• Performed monotonic binning of continuous variables and calculated Weight\nof Evidence\n \nPage 1 of 3\n \n \n• Fitted the WOE into a logistic regression model and predicted the score for\nprobability of default\nTransOrg Analytics\nAnalytics Intern\nDecember 2017 - March 2018 (4 months)\nGurgaon, India\nProcess automation to capture data from documents for an asset\nreconstruction company\nBusiness Problem\n• There was limited time to extract and process information from the\ndocuments received from multiple banks and agencies. \n• Data extraction was time consuming and erroneous due to manual process.\n• There was exposure of confidential information to the person performing\nmanual verification\nApproach\n• The TAT or Turn Around Time was reduced in preparing for bidding process\nby developing an automated data extraction platform to process documents\nwith unstructured data.\n• Identified different formats used to capture information in all types of\ndocuments.\n• Defined a set of extraction algorithms according to the rules to process the\ninformation.\n• Developed a configurable tool to provide flexibility and scalability to\naccommodate newer formats and additional data fields.\n• Reduced the time taken in extracting information from a single document\nfrom 30 minutes(manually) to 5 seconds.\n• Data extracted with over 95% accuracy.\nTo Be Healthy Foods Pvt. Ltd.\nData Analyst\nJune 2016 - July 2016 (2 months)\nNoida Area, India\nEducation\nMaharaja Agrasen Institute Of Technology\nBachelor’s Degree, Information Technology · (2014 - 2018)\n \nPage 2 of 3\n \n \n \nPage 3 of 3\n\n"
    }
   ],
   "source": [
    "test_profile_path = list_pdf_profile_paths[0] \n",
    "text_test = extractTextFromPDF(test_profile_path)\n",
    "#print(text_temp)\n"
   ]
  },
  {
   "cell_type": "code",
   "execution_count": 60,
   "metadata": {},
   "outputs": [],
   "source": [
    "#fetching text from all profiles in a list\n",
    "text_all_profiles = [extractTextFromPDF(path) for path in list_pdf_profile_paths]\n"
   ]
  },
  {
   "cell_type": "code",
   "execution_count": 61,
   "metadata": {},
   "outputs": [],
   "source": [
    "df_profiles = pd.DataFrame()"
   ]
  },
  {
   "cell_type": "code",
   "execution_count": 62,
   "metadata": {},
   "outputs": [],
   "source": [
    "df_profiles['SNo'] = [i for i in range(1,51)]"
   ]
  },
  {
   "cell_type": "code",
   "execution_count": 63,
   "metadata": {},
   "outputs": [],
   "source": [
    "df_profiles['Profile_Text'] = text_all_profiles"
   ]
  },
  {
   "cell_type": "code",
   "execution_count": 64,
   "metadata": {},
   "outputs": [
    {
     "output_type": "execute_result",
     "data": {
      "text/plain": "   SNo                                       Profile_Text\n0    1   \\n \\nContact\\nbhatia.manan96@gmail.com\\nwww.l...\n1    2   \\n \\nContact\\nbhatiasahil96@gmail.com\\nwww.li...\n2    3   \\n \\nContact\\nakashpandey111@gmail.com\\nwww.l...\n3    4   \\n \\nContact\\nNoida Sector 125\\n9719207080 (M...\n4    5   \\n \\nContact\\nyashup1997@gmail.com\\nwww.linke...",
      "text/html": "<div>\n<style scoped>\n    .dataframe tbody tr th:only-of-type {\n        vertical-align: middle;\n    }\n\n    .dataframe tbody tr th {\n        vertical-align: top;\n    }\n\n    .dataframe thead th {\n        text-align: right;\n    }\n</style>\n<table border=\"1\" class=\"dataframe\">\n  <thead>\n    <tr style=\"text-align: right;\">\n      <th></th>\n      <th>SNo</th>\n      <th>Profile_Text</th>\n    </tr>\n  </thead>\n  <tbody>\n    <tr>\n      <th>0</th>\n      <td>1</td>\n      <td>\\n \\nContact\\nbhatia.manan96@gmail.com\\nwww.l...</td>\n    </tr>\n    <tr>\n      <th>1</th>\n      <td>2</td>\n      <td>\\n \\nContact\\nbhatiasahil96@gmail.com\\nwww.li...</td>\n    </tr>\n    <tr>\n      <th>2</th>\n      <td>3</td>\n      <td>\\n \\nContact\\nakashpandey111@gmail.com\\nwww.l...</td>\n    </tr>\n    <tr>\n      <th>3</th>\n      <td>4</td>\n      <td>\\n \\nContact\\nNoida Sector 125\\n9719207080 (M...</td>\n    </tr>\n    <tr>\n      <th>4</th>\n      <td>5</td>\n      <td>\\n \\nContact\\nyashup1997@gmail.com\\nwww.linke...</td>\n    </tr>\n  </tbody>\n</table>\n</div>"
     },
     "metadata": {},
     "execution_count": 64
    }
   ],
   "source": [
    "df_profiles.head()"
   ]
  },
  {
   "cell_type": "code",
   "execution_count": 69,
   "metadata": {},
   "outputs": [
    {
     "output_type": "execute_result",
     "data": {
      "text/plain": "str"
     },
     "metadata": {},
     "execution_count": 69
    }
   ],
   "source": [
    "#type(df_profiles['Profile_Text'].iloc[0])"
   ]
  },
  {
   "cell_type": "code",
   "execution_count": 70,
   "metadata": {},
   "outputs": [],
   "source": [
    "df_profiles.to_csv(\"Output\\\\submission_Task2.csv\",index=False)"
   ]
  },
  {
   "cell_type": "markdown",
   "metadata": {},
   "source": [
    "TASK 2 COMPLETE"
   ]
  },
  {
   "cell_type": "code",
   "execution_count": null,
   "metadata": {},
   "outputs": [],
   "source": []
  }
 ]
}